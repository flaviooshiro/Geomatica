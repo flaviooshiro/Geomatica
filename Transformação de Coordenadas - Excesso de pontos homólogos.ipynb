{
 "cells": [
  {
   "cell_type": "code",
   "execution_count": 593,
   "metadata": {},
   "outputs": [],
   "source": [
    "#Função matriz transposta\n",
    "def transpostaMatriz(matriz):\n",
    "    \n",
    "    import numpy as np\n",
    "    \n",
    "    result=[] \n",
    "    soma=0\n",
    "    matrizcomp=0\n",
    "    um=[]\n",
    "    \n",
    "    for i in range(len(matriz)):{\n",
    "            soma += matriz[i]\n",
    "            um.append([1])\n",
    "    }\n",
    "            \n",
    "    matrizcomp = np.dot(matriz, um)\n",
    "    \n",
    "    if matrizcomp == soma:{\n",
    "\n",
    "        for i in range(len(matriz)):{\n",
    "            linha = []\n",
    "            linha.append(0)\n",
    "            result.append(linha)\n",
    "        }\n",
    "\n",
    "        for i in range(0,len(matriz)):{#Numero de linhas da matriz\n",
    "            result[i][0]=matriz[i]\n",
    "        }\n",
    "    }\n",
    "    \n",
    "    else:\n",
    "\n",
    "        result = matriz.transpose()\n",
    "\n",
    "    return result"
   ]
  },
  {
   "cell_type": "code",
   "execution_count": 594,
   "metadata": {},
   "outputs": [],
   "source": [
    "#Transformação de Excesso de pontos homólogos\n",
    "def transExcessoDePontosHomologos(matriz1,matriz2):\n",
    "    from math import atan\n",
    "    import numpy as np\n",
    "   \n",
    "    result=[]\n",
    "    Xlinhat=[]\n",
    "    Ylinhat=[]\n",
    "    Xt=[]\n",
    "    Yt=[]\n",
    "    Et=[]\n",
    "    Epsilont=[]\n",
    "    Epsilonlinhat=[]\n",
    "    Etat=[]\n",
    "    Etalinhat=[]\n",
    "    \n",
    "    if len(matriz1)==len(matriz2) and len(matriz1[1])==len(matriz2[1]) and len(matriz2[1])==2:\n",
    "        for i in range(0,len(matriz1)):\n",
    "            Xlinhat.append(matriz1[i][0])\n",
    "            Ylinhat.append(matriz1[i][1])\n",
    "            Xt.append(matriz2[i][0])\n",
    "            Yt.append(matriz2[i][1])\n",
    "            Et.append(1)\n",
    "            \n",
    "        Xlinha=transpostaMatriz(Xlinhat)\n",
    "        Ylinha=transpostaMatriz(Ylinhat)\n",
    "        X=transpostaMatriz(Xt)\n",
    "        Y=transpostaMatriz(Yt)\n",
    "        E=transpostaMatriz(Et)\n",
    "        \n",
    "        X0=(np.dot(Et, X))/(np.dot(Et, E))\n",
    "        Y0=(np.dot(Et, Y))/(np.dot(Et, E))\n",
    "        X0linha=(np.dot(Et, Xlinha))/(np.dot(Et, E))\n",
    "        Y0linha=(np.dot(Et, Ylinha))/(np.dot(Et, E))\n",
    "        \n",
    "        for i in range(0,len(X)):\n",
    "            \n",
    "            Epsilont.append(float(X[i][0]-X0))\n",
    "            Etat.append(float(Y[i][0]-Y0))\n",
    "            Epsilonlinhat.append(float(Xlinha[i][0]-X0linha))\n",
    "            Etalinhat.append(float(Ylinha[i][0]-Y0linha))\n",
    "        \n",
    "        Epsilon=transpostaMatriz(Epsilont)\n",
    "        Eta=transpostaMatriz(Etat)\n",
    "        Epsilonlinha=transpostaMatriz(Epsilonlinhat)\n",
    "        Etalinha=transpostaMatriz(Etalinhat)\n",
    "        \n",
    "        a=float((np.dot(Epsilonlinhat, Epsilon)+np.dot(Etalinhat, Eta))/(np.dot(Epsilonlinhat, Epsilonlinha)+np.dot(Etalinhat, Etalinha)))\n",
    "        b=float((np.dot(Epsilonlinhat, Eta)-np.dot(Etalinhat, Epsilon))/(np.dot(Epsilonlinhat, Epsilonlinha)+np.dot(Etalinhat, Etalinha)))\n",
    "        c=float(X0-(a*X0linha)+(b*Y0linha))\n",
    "        d=float(Y0-(b*X0linha)-(a*Y0linha))\n",
    "        k=float(((a**2)+(b**2)))\n",
    "        rad = atan(b/a)\n",
    "                   \n",
    "        \n",
    "    else:\n",
    "        print (\"Erro\")\n",
    "           \n",
    "    return a, b, c, d, k, rad"
   ]
  },
  {
   "cell_type": "code",
   "execution_count": 612,
   "metadata": {},
   "outputs": [],
   "source": [
    "#Resultado do Excesso de pontos homólogos\n",
    "def resultado(matriz,parametros):\n",
    "\n",
    "    result=[]\n",
    "    linha=[]\n",
    "    \n",
    "    for i in range(0,len(matriz)):{\n",
    "            x=parametros[0]*matriz[i][0]-parametros[1]*matriz[i][1]+parametros[2]\n",
    "            y=parametros[1]*matriz[i][0]+parametros[0]*matriz[i][1]+parametros[3]\n",
    "            linha.append(x)\n",
    "            linha.append(y)\n",
    "            result.append(linha)\n",
    "            linha=[]\n",
    "    }\n",
    "           \n",
    "    return result"
   ]
  },
  {
   "cell_type": "code",
   "execution_count": 659,
   "metadata": {},
   "outputs": [],
   "source": [
    "#Resultado do Erro\n",
    "\n",
    "def erro(matrizresultado,matrizorigem):\n",
    "    \n",
    "    Vxit=[]\n",
    "    Vyit=[]\n",
    "    p=206264,8062\n",
    "    \n",
    "    for i in range(0,len(matrizorigem)):{\n",
    "        Vxit.append((matrizresultado[i][0]-matrizorigem[i][0])*100)\n",
    "        Vyit.append((matrizresultado[i][1]-matrizorigem[i][1])*100)\n",
    "    }\n",
    "\n",
    "    Vxi=transpostaMatriz(Vxit)\n",
    "    Vyi=transpostaMatriz(Vyit)\n",
    "    \n",
    "    S0 = float(((np.dot(Vxit, Vxi))+(np.dot(Vyit, Vyi)))/((2*len(matrizorigem)-4)))**0.5\n",
    "    Sp = S0*(2**0.5)\n",
    "    \n",
    "    \n",
    "    \n",
    "    \n",
    "    return Vxi, Vyi, S0, Sp"
   ]
  },
  {
   "cell_type": "code",
   "execution_count": 660,
   "metadata": {},
   "outputs": [],
   "source": [
    "A = [[197266.368,7563526.603],\n",
    "     [197319.864,7563695.541],\n",
    "     [197002.396,7563776.129],\n",
    "     [197042.265,7563649.295]]\n",
    "B = [[1000.000,1000.000],\n",
    "     [1173.787,1034.268],\n",
    "     [ 1091.909,1351.205],\n",
    "     [ 999.967, 1255.318]]\n",
    "dado = [[197266.368,7563526.603],\n",
    "        [197319.864,7563695.541],\n",
    "        [197002.396,7563776.129],\n",
    "        [197042.265,7563649.295],\n",
    "        [197334.993,7563618.279],\n",
    "        [197200.671,7563719.336],\n",
    "        [197097.625,7563809.233]]"
   ]
  },
  {
   "cell_type": "code",
   "execution_count": 661,
   "metadata": {},
   "outputs": [
    {
     "name": "stdout",
     "output_type": "stream",
     "text": [
      "a = 0.4802756826912611\n",
      "b = -0.8763987256090833\n",
      "c = -6722407.287468537\n",
      "d = -3458693.9036758877\n",
      "k = 0.9987394576337821\n",
      "rad = -1.0694818647151245\n"
     ]
    }
   ],
   "source": [
    "Parametros = transExcessoDePontosHomologos(A,B)\n",
    "print(\"a =\",Parametros[0])\n",
    "print(\"b =\",Parametros[1])\n",
    "print(\"c =\",Parametros[2])\n",
    "print(\"d =\",Parametros[3])\n",
    "print(\"k =\",Parametros[4])\n",
    "print(\"rad =\",Parametros[5])"
   ]
  },
  {
   "cell_type": "code",
   "execution_count": 662,
   "metadata": {},
   "outputs": [
    {
     "data": {
      "text/plain": [
       "[[1000.0280742878094, 1000.005612719804],\n",
       " [1173.7779501164332, 1034.2585997772403],\n",
       " [1091.933010181412, 1351.1916071153246],\n",
       " [999.9239654112607, 1255.335180385504],\n",
       " [1113.3317225808278, 983.8925036611035],\n",
       " [1137.3863583449274, 1150.1473529483192],\n",
       " [1166.6814865814522, 1283.6320790741593]]"
      ]
     },
     "execution_count": 662,
     "metadata": {},
     "output_type": "execute_result"
    }
   ],
   "source": [
    "resultado(dado,transExcessoDePontosHomologos(A,B))"
   ]
  },
  {
   "cell_type": "code",
   "execution_count": 669,
   "metadata": {},
   "outputs": [
    {
     "name": "stdout",
     "output_type": "stream",
     "text": [
      "Vxi =  [[2.8074287809431553], [-0.904988356683134], [2.401018141199529], [-4.303458873926047]]\n",
      "Vyi =  [[0.5612719804048538], [-0.9400222759722965], [-1.339288467534061], [1.7180385503934303]]\n",
      "S0 =  3.119668446123783\n",
      "Sp =  4.4118774266156535\n"
     ]
    }
   ],
   "source": [
    "Erros = erro(resultado(A,transExcessoDePontosHomologos(A,B)),B)\n",
    "print (\"Vxi = \", Erros[0])\n",
    "print (\"Vyi = \", Erros[1])\n",
    "print (\"S0 = \", Erros[2])\n",
    "print (\"Sp = \", Erros[3])"
   ]
  },
  {
   "cell_type": "code",
   "execution_count": null,
   "metadata": {},
   "outputs": [],
   "source": []
  },
  {
   "cell_type": "code",
   "execution_count": null,
   "metadata": {},
   "outputs": [],
   "source": []
  }
 ],
 "metadata": {
  "kernelspec": {
   "display_name": "Python 3",
   "language": "python",
   "name": "python3"
  },
  "language_info": {
   "codemirror_mode": {
    "name": "ipython",
    "version": 3
   },
   "file_extension": ".py",
   "mimetype": "text/x-python",
   "name": "python",
   "nbconvert_exporter": "python",
   "pygments_lexer": "ipython3",
   "version": "3.7.0"
  }
 },
 "nbformat": 4,
 "nbformat_minor": 2
}
