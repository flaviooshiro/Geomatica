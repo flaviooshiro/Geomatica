{
 "cells": [
  {
   "cell_type": "code",
   "execution_count": 1,
   "metadata": {},
   "outputs": [],
   "source": [
    "#Transformação de Helmert 2D\n",
    "def transHelmert2d(matriz1,matriz2):\n",
    "    from math import atan\n",
    "    result=[]\n",
    "\n",
    "    if len(matriz1)==len(matriz2) and len(matriz1[1])==len(matriz2[1]) and len(matriz1)==2 and len(matriz2[1])==2:\n",
    "        deltaxlinha = matriz1[1][0] - matriz1[0][0]\n",
    "        deltaylinha = matriz1[1][1] - matriz1[0][1]     \n",
    "        deltax = matriz2[1][0] - matriz2[0][0]\n",
    "        deltay = matriz2[1][1] - matriz2[0][1]\n",
    "        \n",
    "        a=(deltaxlinha*deltax+deltaylinha*deltay)/((deltaxlinha**2)+(deltaylinha**2))\n",
    "        b=((deltaxlinha*deltay)-(deltaylinha*deltax))/((deltaxlinha**2)+(deltaylinha**2))\n",
    "        c=matriz2[0][0]-a*matriz1[0][0]+b*matriz1[0][1]\n",
    "        d=matriz2[0][1]-(b*matriz1[0][0])-(a*matriz1[0][1])\n",
    "        k=(a**2+b**2)**0.5\n",
    "        rad = atan(b/a)\n",
    "        \n",
    "    else:\n",
    "        print (\"Erro\")\n",
    "           \n",
    "    return a, b, c, d, k, rad"
   ]
  },
  {
   "cell_type": "code",
   "execution_count": 2,
   "metadata": {},
   "outputs": [],
   "source": [
    "#Resultado do Helmert 2D\n",
    "def resultado(matriz,parametros):\n",
    "\n",
    "    result=[]\n",
    "    linha=[]\n",
    "    \n",
    "    for i in range(0,len(matriz)):\n",
    "            x=parametros[0]*matriz[i][0]-parametros[1]*matriz[i][1]+parametros[2]\n",
    "            y=parametros[1]*matriz[i][0]+parametros[0]*matriz[i][1]+parametros[3]\n",
    "            linha.append(x)\n",
    "            linha.append(y)\n",
    "            result.append(linha)\n",
    "            linha=[]\n",
    "           \n",
    "    return result"
   ]
  },
  {
   "cell_type": "code",
   "execution_count": 3,
   "metadata": {},
   "outputs": [],
   "source": [
    "A = [[197266.368,7563526.603],\n",
    "     [197319.864,7563695.541]]"
   ]
  },
  {
   "cell_type": "code",
   "execution_count": 4,
   "metadata": {},
   "outputs": [],
   "source": [
    "B = [[1000.000,1000.000],\n",
    "     [1173.787,1034.268]]"
   ]
  },
  {
   "cell_type": "code",
   "execution_count": 5,
   "metadata": {},
   "outputs": [],
   "source": [
    "dado = [[197266.368,7563526.603],\n",
    "        [197319.864,7563695.541],\n",
    "        [197002.396,7563776.129],\n",
    "        [197042.265,7563649.295],\n",
    "        [197334.993,7563618.279],\n",
    "        [197200.671,7563719.336],\n",
    "        [197097.625,7563809.233]]\n"
   ]
  },
  {
   "cell_type": "code",
   "execution_count": 6,
   "metadata": {},
   "outputs": [
    {
     "name": "stdout",
     "output_type": "stream",
     "text": [
      "a = 0.48041969485415836\n",
      "b = -0.8765728729119768\n",
      "c = -6723752.892057423\n",
      "d = -3459748.7957078977\n",
      "k = 0.9995914589115492\n",
      "rad = -1.0694392470846519\n"
     ]
    }
   ],
   "source": [
    "Parametros = transHelmert2d(A,B)\n",
    "print(\"a =\",Parametros[0])\n",
    "print(\"b =\",Parametros[1])\n",
    "print(\"c =\",Parametros[2])\n",
    "print(\"d =\",Parametros[3])\n",
    "print(\"k =\",Parametros[4])\n",
    "print(\"rad =\",Parametros[5])"
   ]
  },
  {
   "cell_type": "code",
   "execution_count": 7,
   "metadata": {},
   "outputs": [
    {
     "data": {
      "text/plain": [
       "[[1000.0, 1000.0],\n",
       " [1173.7870000004768, 1034.2680000001565],\n",
       " [1091.9103749971837, 1351.2678991863504],\n",
       " [999.8849840480834, 1255.3862637393177],\n",
       " [1113.3294962570071, 983.8881425419822],\n",
       " [1137.3823868222535, 1150.1809370801784],\n",
       " [1166.6783305024728, 1283.696554650087]]"
      ]
     },
     "execution_count": 7,
     "metadata": {},
     "output_type": "execute_result"
    }
   ],
   "source": [
    "resultado(dado,transHelmert2d(A,B))"
   ]
  }
 ],
 "metadata": {
  "kernelspec": {
   "display_name": "Python 3",
   "language": "python",
   "name": "python3"
  },
  "language_info": {
   "codemirror_mode": {
    "name": "ipython",
    "version": 3
   },
   "file_extension": ".py",
   "mimetype": "text/x-python",
   "name": "python",
   "nbconvert_exporter": "python",
   "pygments_lexer": "ipython3",
   "version": "3.7.0"
  }
 },
 "nbformat": 4,
 "nbformat_minor": 2
}
